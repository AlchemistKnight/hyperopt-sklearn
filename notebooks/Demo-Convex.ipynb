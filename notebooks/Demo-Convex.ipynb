{
 "metadata": {
  "name": "Demo-Convex"
 },
 "nbformat": 3,
 "nbformat_minor": 0,
 "worksheets": [
  {
   "cells": [
    {
     "cell_type": "markdown",
     "metadata": {},
     "source": [
      "# Hyperopt-Sklearn on Convex Images (INPROG)\n",
      "\n"
     ]
    },
    {
     "cell_type": "code",
     "collapsed": false,
     "input": [
      "# -- RETRIEVE DATA VIA SKDATA (github.com/jaberg/skdata)\n",
      "import skdata.larochelle_etal_2007.view\n",
      "class DataCaptureMock(object):\n",
      "    def best_model(self, train, valid):\n",
      "        self.train = train\n",
      "        self.test = test\n",
      "    \n",
      "    def loss(self, *args, **kwargs):\n",
      "        pass\n",
      "# store train, valid tasks into data_capture\n",
      "data_capture = DataCaptureMock()\n",
      "skdata.larochelle_etal_2007.view.ConvexVectorXV().protocol(data_capture)"
     ],
     "language": "python",
     "metadata": {},
     "outputs": []
    },
    {
     "cell_type": "code",
     "collapsed": false,
     "input": [
      "import hpsklearn\n",
      "import hyperopt.tpe\n",
      "estimator = hpsklearn.HyperoptEstimator(\n",
      "    #preprocessing=simple_small_image_preprocessing('pp'),\n",
      "    #classifier=hpc.any_classifier('classif'),\n",
      "    max_evals=100,\n",
      "    verbose=1,\n",
      "    algo=hyperopt.tpe.suggest,\n",
      "    trial_timeout=60.0 * 5, # -- seconds\n",
      "    )"
     ],
     "language": "python",
     "metadata": {},
     "outputs": []
    },
    {
     "cell_type": "code",
     "collapsed": false,
     "input": [
      "# Demo version of estimator.fit()\n",
      "import hpsklearn.demo_support\n",
      "reload (hpsklearn.demo_support)\n",
      "\n",
      "fit_iterator = estimator.fit_iter(data_capture.train.x, data_capture.train.y)\n",
      "fit_iterator.next()\n",
      "plot_helper = hpsklearn.demo_support.PlotHelper(estimator,\n",
      "                                                #mintodate_ylim=(-.01, .05),\n",
      ")\n",
      "while len(estimator.trials.trials) < estimator.max_evals:\n",
      "    fit_iterator.send(1) # -- try one more model\n",
      "    plot_helper.post_iter()\n",
      "plot_helper.post_loop()\n",
      "\n",
      "# -- Model selection was done on a subset of the training data.\n",
      "# -- Now that we've picked a model, train on all training data.\n",
      "estimator.retrain_best_model_on_full_data(data_capture.train.x, data_capture.train.y)"
     ],
     "language": "python",
     "metadata": {},
     "outputs": []
    },
    {
     "cell_type": "code",
     "collapsed": false,
     "input": [
      "print 'Best preprocessing pipeline:'\n",
      "for pp in estimator._best_preprocs:\n",
      "    print pp\n",
      "print\n",
      "print 'Best classifier:\\n', estimator._best_classif\n",
      "test_predictions = estimator.predict(X_test)\n",
      "acc_in_percent = 100 * np.mean(test_predictions == y_test)\n",
      "print\n",
      "print 'Prediction accuracy in generalization is %.1f%%' % acc_in_percent"
     ],
     "language": "python",
     "metadata": {},
     "outputs": []
    }
   ],
   "metadata": {}
  }
 ]
}